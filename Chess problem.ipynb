{
 "cells": [
  {
   "cell_type": "code",
   "execution_count": 74,
   "metadata": {},
   "outputs": [
    {
     "name": "stdout",
     "output_type": "stream",
     "text": [
      "{0: [6, 9], 1: [7, 8, 10], 2: [4, 9, 11], 3: [5, 10], 4: [2, 10, 13], 5: [3, 11, 12, 14], 6: [0, 8, 13, 15], 7: [1, 9, 14], 8: [6, 14, 1], 9: [7, 15, 0, 2], 10: [4, 12, 1, 3], 11: [5, 13, 2], 12: [10, 5], 13: [11, 4, 6], 14: [8, 5, 7], 15: [9, 6]}\n",
      "5.98037699999999983\n"
     ]
    }
   ],
   "source": [
    "import itertools as it\n",
    "import random as rd\n",
    "\n",
    "allowed_moves = {}\n",
    "for i in range(4):\n",
    "    for j in range(4):\n",
    "        moves = list(it.product([i-1, i+1],[j-2, j+2])) + list(it.product([i-2,i+2],[j-1,j+1]))\n",
    "        moves = [(4*x+y) for x,y in moves if x >= 0 and y >= 0 and x <= 3 and y <= 3]\n",
    "        allowed_moves[4*i+j] = moves\n",
    "\n",
    "print(allowed_moves)\n",
    "\n",
    "S_sum = 0\n",
    "k_range = 1000000\n",
    "\n",
    "for k in range(k_range):\n",
    "    S = 0\n",
    "    position = 0\n",
    "    for n in range(16):\n",
    "        position = rd.choice(allowed_moves[position])\n",
    "        S = S + position\n",
    "    S_sum = S_sum + S%13\n",
    "    \n",
    "print(format(S_sum/k_range, '.17f'))"
   ]
  },
  {
   "cell_type": "code",
   "execution_count": 75,
   "metadata": {},
   "outputs": [
    {
     "data": {
      "text/plain": [
       "{(1, 2): [(3, 4), (5, 6), (7, 8)], (1, 3): [(1, 2), (2, 3)]}"
      ]
     },
     "execution_count": 75,
     "metadata": {},
     "output_type": "execute_result"
    }
   ],
   "source": [
    "a = {(1,2): [(3,4),(5,6),(7,8)]}\n",
    "type(a)\n",
    "a[1,3] = [(1,2),(2,3)]\n",
    "a"
   ]
  },
  {
   "cell_type": "code",
   "execution_count": 18,
   "metadata": {},
   "outputs": [
    {
     "data": {
      "text/plain": [
       "[1, 2, 0, 3]"
      ]
     },
     "execution_count": 18,
     "metadata": {},
     "output_type": "execute_result"
    }
   ],
   "source": [
    "b=[1,2]\n",
    "c=[0,3]\n",
    "d=b+c\n",
    "d"
   ]
  },
  {
   "cell_type": "code",
   "execution_count": 23,
   "metadata": {},
   "outputs": [
    {
     "data": {
      "text/plain": [
       "[(1, 1), (1, 2), (1, 0), (1, 3), (2, 1), (2, 2), (2, 0), (2, 3)]"
      ]
     },
     "execution_count": 23,
     "metadata": {},
     "output_type": "execute_result"
    }
   ],
   "source": [
    "import itertools\n",
    "e=list(itertools.product(b,d))\n",
    "e"
   ]
  }
 ],
 "metadata": {
  "kernelspec": {
   "display_name": "Python 3",
   "language": "python",
   "name": "python3"
  },
  "language_info": {
   "codemirror_mode": {
    "name": "ipython",
    "version": 3
   },
   "file_extension": ".py",
   "mimetype": "text/x-python",
   "name": "python",
   "nbconvert_exporter": "python",
   "pygments_lexer": "ipython3",
   "version": "3.6.1"
  },
  "widgets": {
   "application/vnd.jupyter.widget-state+json": {
    "state": {},
    "version_major": 1,
    "version_minor": 0
   }
  }
 },
 "nbformat": 4,
 "nbformat_minor": 2
}
