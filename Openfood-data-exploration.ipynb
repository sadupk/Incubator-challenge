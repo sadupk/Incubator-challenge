{
 "cells": [
  {
   "cell_type": "code",
   "execution_count": 14,
   "metadata": {},
   "outputs": [
    {
     "name": "stdout",
     "output_type": "stream",
     "text": [
      "/home/sadu/Documents/Incubator-challenge\n",
      "/home/sadu/Documents/Incubator-challenge/openfoodfacts.csv\n"
     ]
    },
    {
     "name": "stderr",
     "output_type": "stream",
     "text": [
      "/home/sadu/anaconda3/lib/python3.6/site-packages/IPython/core/interactiveshell.py:2698: DtypeWarning: Columns (0,3,5,19,20,24,25,26,27,28,36,37,38,39,48) have mixed types. Specify dtype option on import or set low_memory=False.\n",
      "  interactivity=interactivity, compiler=compiler, result=result)\n"
     ]
    }
   ],
   "source": [
    "import pandas as pd\n",
    "import os\n",
    "\n",
    "print(os.getcwd())\n",
    "path = os.getcwd() + '/openfoodfacts.csv'\n",
    "print(path)\n",
    "food_db = pd.read_csv(path, sep = '\\t')"
   ]
  },
  {
   "cell_type": "code",
   "execution_count": 156,
   "metadata": {},
   "outputs": [
    {
     "data": {
      "text/plain": [
       "0.4594594594594595"
      ]
     },
     "execution_count": 156,
     "metadata": {},
     "output_type": "execute_result"
    }
   ],
   "source": [
    "usda_bfp = food_db.loc[food_db['creator'] == 'usda-ndb-import']\n",
    "usda_bfp.shape\n",
    "food_db.shape\n",
    "170/370"
   ]
  },
  {
   "cell_type": "code",
   "execution_count": 137,
   "metadata": {},
   "outputs": [
    {
     "name": "stdout",
     "output_type": "stream",
     "text": [
      "(2804, 163)\n"
     ]
    }
   ],
   "source": [
    "yogurts_w_salt = usda_bfp[usda_bfp['product_name'].str.contains('Yogurt', na = False)]\n",
    "yogurts = yogurts_w_salt[~yogurts_w_salt['ingredients_text'].str.contains('salt', na = False)]\n",
    "print(yogurts.shape)"
   ]
  },
  {
   "cell_type": "code",
   "execution_count": 153,
   "metadata": {},
   "outputs": [
    {
     "name": "stdout",
     "output_type": "stream",
     "text": [
      "There are approximately 2804 branded yogurts for sale in the american market\n",
      "There are approximately 5012 unique ingredients in these yogurts\n",
      "Their top 10 ingredients, by frequency are\n"
     ]
    },
    {
     "data": {
      "text/plain": [
       "<matplotlib.axes._subplots.AxesSubplot at 0x7f0e4d3fdeb8>"
      ]
     },
     "execution_count": 153,
     "metadata": {},
     "output_type": "execute_result"
    },
    {
     "data": {
      "image/png": "[encoded data removed]",
      "text/plain": [
       "<matplotlib.figure.Figure at 0x7f0e4dbf7da0>"
      ]
     },
     "metadata": {},
     "output_type": "display_data"
    },
    {
     "data": {
      "image/png": "[encoded data removed]",
      "text/plain": [
       "<matplotlib.figure.Figure at 0x7f0e45800ba8>"
      ]
     },
     "metadata": {},
     "output_type": "display_data"
    }
   ],
   "source": [
    "from collections import defaultdict\n",
    "import matplotlib.pyplot as plt\n",
    "import re\n",
    "\n",
    "%matplotlib inline\n",
    "\n",
    "\n",
    "ingredient_count = defaultdict(int)\n",
    "\n",
    "for index, row in yogurts.iterrows():\n",
    "    for ingredient in row['ingredients_text'].split(', '):\n",
    "        ingredient_count[ingredient] += 1\n",
    "\n",
    "df_count = pd.DataFrame.from_records([ingredient_count])\n",
    "nk to 2nd plot. You are high\n",
    "\n",
    "df_count['cultured milk'] = 0\n",
    "\n",
    "for column in df_count:\n",
    "    if re.match(r'Cultured.*milk|milk.*Cultured', column):\n",
    "        df_count['cultured milk'] += df_count[column][0]\n",
    "    if re.match(r'natural.*flavors', column):\n",
    "        df_count['natural flavor'] += df_count[column][0]\n",
    "        df_count[column][0] = 0\n",
    "df_count = df_count.sort_values(by = [0], axis=1, ascending = False)\n",
    "sorted(ingredient_count.items(), key=lambda x: x[1], reverse = True)\n",
    "\n",
    "#Top 10 ingredients by frequency\n",
    "print('There are approximately {0} branded yogurts for sale in the american market'.format(yogurts.shape[0]))\n",
    "print('There are approximately {0} unique ingredients in these yogurts'.format(df_count.shape[1]))\n",
    "df_count.iloc[:,range(50)].plot(kind='bar', legend = None)\n",
    "print('Their top 10 ingredients, by frequency are')\n",
    "df_count_top_10 = df_count.iloc[:,range(10)]\n",
    "df_count_top_10.plot(kind='bar')"
   ]
  }
 ],
 "metadata": {
  "kernelspec": {
   "display_name": "Python 3",
   "language": "python",
   "name": "python3"
  },
  "language_info": {
   "codemirror_mode": {
    "name": "ipython",
    "version": 3
   },
   "file_extension": ".py",
   "mimetype": "text/x-python",
   "name": "python",
   "nbconvert_exporter": "python",
   "pygments_lexer": "ipython3",
   "version": "3.6.2"
  }
 },
 "nbformat": 4,
 "nbformat_minor": 2
}
