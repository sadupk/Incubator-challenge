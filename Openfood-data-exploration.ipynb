{
 "cells": [
  {
   "cell_type": "markdown",
   "metadata": {},
   "source": [
    "# Consumer-focused Clustering of US Branded Food Products"
   ]
  },
  {
   "cell_type": "markdown",
   "metadata": {},
   "source": [
    "#### There is a contradiction in the US where on one hand, consumers rely heavily on manufactured food products for their diet. On the other, they want to be in control of what they consume.\n",
    "In my three years as an engineer in the food manufacturing industry I noticed a marked trend where ingredient lists and nutritional information are becoming increasingly complex. Advances in food science are continually creating new ways of manufacturing similar food products in ways that the traditional supermarket food categories aren’t enough to capture what the consumers look for. \n",
    "Take yogurts, which I chose as an example because it is a simple item that could be manufactured from as little as 2 ingredients, milk and bacterial culture. A preliminary exploration of the USDA Branded Food Products shows that the 2800 yogurts available in the shelfs are made of a combination of over 5000 different ingredients! And many of the most common ingredients are not part of the basic yogurt building blocks, including “natural flavors”, thickeners (gums) and preservatives.\n",
    "\n",
    " I plan to do cluster analysis of this data in order to generate food categories that are insightful to consumers. However, before doing so I think there are plenty of opportunities to do feature engineering and generate interesting visualizations from this data. For example, besides determining the composition of a food product, the position of the ingredient in the ingredient list indicates its weight% prevalence. Also, there are several ingredient categories that could be binned depending to generate insights into things such as preservatives, natural additives, artificial additives, etc.\n"
   ]
  },
  {
   "cell_type": "markdown",
   "metadata": {},
   "source": [
    "## Data Source\n",
    "The data source is the USDA Branded Food Products Database. This is public data source that was created as a public-private partnership in September 2016. However, their website does not offer a complete database export option, so I download the OpenFoodFacts.org database, which includes all of the records scrapped from the USDA Branded Food Product.\n",
    "\n",
    "This is a great time to analyze this data because it is the first self-reported ingredient list database for US branded products and has not been extensively analyzed yet."
   ]
  },
  {
   "cell_type": "markdown",
   "metadata": {},
   "source": [
    "## Example: Yogurt Data Exploration\n",
    "I chose yogurt as an example of category of food product that could benefit from analysis. Even though I plan to analyse the whole corpus in my actual project, exploring this specific category gives insight into the problem that I am trying to address. "
   ]
  },
  {
   "cell_type": "markdown",
   "metadata": {},
   "source": [
    "### Reading the data\n",
    "I used Python's Pandas to read and manipulate the data downloaded from Open Food Facts."
   ]
  },
  {
   "cell_type": "code",
   "execution_count": 74,
   "metadata": {
    "collapsed": true
   },
   "outputs": [],
   "source": [
    "from collections import defaultdict\n",
    "import pandas as pd\n",
    "import numpy as np\n",
    "import matplotlib.pyplot as plt\n",
    "import re\n",
    "import os\n",
    "\n",
    "path = os.getcwd() + '/openfoodfacts.csv'\n",
    "food_db = pd.read_csv(path, sep = '\\t', dtype = object)"
   ]
  },
  {
   "cell_type": "markdown",
   "metadata": {},
   "source": [
    "Filter data by USDA Branded Food Products scrapped import"
   ]
  },
  {
   "cell_type": "code",
   "execution_count": 18,
   "metadata": {
    "collapsed": true
   },
   "outputs": [],
   "source": [
    "usda_bfp = food_db.loc[food_db['creator'] == 'usda-ndb-import']"
   ]
  },
  {
   "cell_type": "markdown",
   "metadata": {},
   "source": [
    "Approximate yogurt-products filter"
   ]
  },
  {
   "cell_type": "code",
   "execution_count": 64,
   "metadata": {
    "collapsed": true
   },
   "outputs": [],
   "source": [
    "yogurts_w_salt = usda_bfp[usda_bfp['product_name'].str.contains('Yogurt', na = False)]\n",
    "yogurts = yogurts_w_salt[~yogurts_w_salt['ingredients_text'].str.contains('salt', na = False)]"
   ]
  },
  {
   "cell_type": "code",
   "execution_count": 93,
   "metadata": {},
   "outputs": [],
   "source": [
    "yogurts['ingredient_number'] = yogurts['ingredients_text'].str.split(', ').str.len()\n",
    "stat = [min(yogurts['ingredient_number']), max(yogurts['ingredient_number']), np.mean(yogurts['ingredient_number'])]"
   ]
  },
  {
   "cell_type": "markdown",
   "metadata": {},
   "source": [
    "### Plotting"
   ]
  },
  {
   "cell_type": "code",
   "execution_count": 50,
   "metadata": {
    "collapsed": true
   },
   "outputs": [],
   "source": [
    "ingredient_count = defaultdict(int)\n",
    "\n",
    "for index, row in yogurts.iterrows():\n",
    "    for ingredient in row['ingredients_text'].split(', '):\n",
    "        ingredient_count[ingredient] += 1\n",
    "\n",
    "df_count = pd.DataFrame.from_records([ingredient_count])\n",
    "\n",
    "df_count['cultured milk'] = 0\n",
    "\n",
    "for column in df_count:\n",
    "    if re.match(r'Cultured.*milk|milk.*Cultured|milk|Milk', column):\n",
    "        df_count['cultured milk'] += df_count[column][0]\n",
    "    if re.match(r'natural.*flavors', column):\n",
    "        df_count['natural flavor'] += df_count[column][0]\n",
    "        df_count[column][0] = 0\n",
    "df_count = df_count.sort_values(by = [0], axis=1, ascending = False)\n",
    "sorted(ingredient_count.items(), key=lambda x: x[1], reverse = True);"
   ]
  },
  {
   "cell_type": "markdown",
   "metadata": {},
   "source": [
    "First, lets take a look at the number of ingredients that it takes to make a yogurt"
   ]
  },
  {
   "cell_type": "code",
   "execution_count": 83,
   "metadata": {},
   "outputs": [
    {
     "data": {
      "image/png": "[encoded data removed]",
      "text/plain": [
       "<matplotlib.figure.Figure at 0x7f207c517908>"
      ]
     },
     "metadata": {},
     "output_type": "display_data"
    }
   ],
   "source": [
    "yogurts['ingredient_number'].plot.hist()\n",
    "plt.ylabel('Frequency')\n",
    "plt.xlabel('Number of Ingredients')\n",
    "plt.title('How many ingredients does it take to make a yogurt?')\n",
    "plt.show();"
   ]
  },
  {
   "cell_type": "markdown",
   "metadata": {},
   "source": [
    "The plot shows that it takes from 1 to 40 ingredients to make a yogurt (and on average 12). So what are these ingredients and how often are they used?\n",
    "\n",
    "Lets take a look at how many unique ingredients make up the over 2800 yogurts available in the shelfs of US supermarkets.\n",
    "\n",
    "The plot below is a histogram of the top 50 ingredients in yogurts."
   ]
  },
  {
   "cell_type": "code",
   "execution_count": 51,
   "metadata": {},
   "outputs": [
    {
     "name": "stdout",
     "output_type": "stream",
     "text": [
      "There are approximately 2804 branded yogurts for sale in the american market\n",
      "There are approximately 5012 unique ingredients in these yogurts\n"
     ]
    },
    {
     "data": {
      "image/png": "[encoded data removed]",
      "text/plain": [
       "<matplotlib.figure.Figure at 0x7f20725af898>"
      ]
     },
     "metadata": {},
     "output_type": "display_data"
    }
   ],
   "source": [
    "#Top 10 ingredients by frequency\n",
    "print('There are approximately {0} branded yogurts for sale in the american market'.format(yogurts.shape[0]))\n",
    "print('There are approximately {0} unique ingredients in these yogurts'.format(df_count.shape[1]))\n",
    "df_count.iloc[:,range(50)].plot(kind='bar', legend = None)\n",
    "plt.ylabel('Frequency')\n",
    "plt.xlabel('Ingredients')\n",
    "plt.title('Frequency of the Top 50 Ingredients in yogurts')\n",
    "plt.show();"
   ]
  },
  {
   "cell_type": "markdown",
   "metadata": {},
   "source": [
    "The plot above give us an idea of the variety of ingredients that make up yogurts. There are some ingredients that are the most common but there are also a number of ingredients that show up regularly in yogurts.\n",
    "\n",
    "Lets now zoom into this plot and look at the top 10 most common ingredients:"
   ]
  },
  {
   "cell_type": "code",
   "execution_count": 52,
   "metadata": {},
   "outputs": [
    {
     "data": {
      "image/png": "[encoded data removed]",
      "text/plain": [
       "<matplotlib.figure.Figure at 0x7f207a504cf8>"
      ]
     },
     "metadata": {},
     "output_type": "display_data"
    }
   ],
   "source": [
    "df_count_top_10 = df_count.iloc[:,range(10)]\n",
    "df_count_top_10.plot(kind='bar')\n",
    "plt.ylabel('Frequency')\n",
    "plt.xlabel('Ingredients')\n",
    "plt.title('The top 10 most common ingredients in yogurts')\n",
    "plt.show();"
   ]
  },
  {
   "cell_type": "markdown",
   "metadata": {},
   "source": [
    "Going to the supermarket category of yogurts you would think that cultured milk, the very definition of yogurt, would be what you are buying correct? However, this plot shows that of the 2800 yogurts available in supermarket shelfs, only about 1600 contain cultured milk. In fact the second most common ingredient \"Natural Flavors\" is a close second, followed by additives such as pectin (for texture), citric acid (acidity control) and sodium citrate (preservative).\n",
    "\n",
    "This highlights the importance of taking a closer look of what we are eating."
   ]
  }
 ],
 "metadata": {
  "kernelspec": {
   "display_name": "Python 3",
   "language": "python",
   "name": "python3"
  },
  "language_info": {
   "codemirror_mode": {
    "name": "ipython",
    "version": 3
   },
   "file_extension": ".py",
   "mimetype": "text/x-python",
   "name": "python",
   "nbconvert_exporter": "python",
   "pygments_lexer": "ipython3",
   "version": "3.6.2"
  }
 },
 "nbformat": 4,
 "nbformat_minor": 2
}
