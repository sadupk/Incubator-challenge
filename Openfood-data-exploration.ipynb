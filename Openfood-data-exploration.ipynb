{
 "cells": [
  {
   "cell_type": "code",
   "execution_count": 14,
   "metadata": {},
   "outputs": [
    {
     "name": "stdout",
     "output_type": "stream",
     "text": [
      "/home/sadu/Documents/Incubator-challenge\n",
      "/home/sadu/Documents/Incubator-challenge/openfoodfacts.csv\n"
     ]
    },
    {
     "name": "stderr",
     "output_type": "stream",
     "text": [
      "/home/sadu/anaconda3/lib/python3.6/site-packages/IPython/core/interactiveshell.py:2698: DtypeWarning: Columns (0,3,5,19,20,24,25,26,27,28,36,37,38,39,48) have mixed types. Specify dtype option on import or set low_memory=False.\n",
      "  interactivity=interactivity, compiler=compiler, result=result)\n"
     ]
    }
   ],
   "source": [
    "import pandas as pd\n",
    "import os\n",
    "\n",
    "print(os.getcwd())\n",
    "path = os.getcwd() + '/openfoodfacts.csv'\n",
    "print(path)\n",
    "food_db = pd.read_csv(path, sep = '\\t')"
   ]
  },
  {
   "cell_type": "code",
   "execution_count": 27,
   "metadata": {},
   "outputs": [
    {
     "data": {
      "text/plain": [
       "(169868, 163)"
      ]
     },
     "execution_count": 27,
     "metadata": {},
     "output_type": "execute_result"
    }
   ],
   "source": [
    "usda_bfp = food_db.loc[food_db['creator'] == 'usda-ndb-import']\n",
    "usda_bfp.shape"
   ]
  },
  {
   "cell_type": "code",
   "execution_count": 62,
   "metadata": {},
   "outputs": [
    {
     "name": "stdout",
     "output_type": "stream",
     "text": [
      "['code', 'url', 'creator', 'created_t', 'created_datetime', 'last_modified_t', 'last_modified_datetime', 'product_name', 'generic_name', 'quantity', 'packaging', 'packaging_tags', 'brands', 'brands_tags', 'categories', 'categories_tags', 'categories_en', 'origins', 'origins_tags', 'manufacturing_places', 'manufacturing_places_tags', 'labels', 'labels_tags', 'labels_en', 'emb_codes', 'emb_codes_tags', 'first_packaging_code_geo', 'cities', 'cities_tags', 'purchase_places', 'stores', 'countries', 'countries_tags', 'countries_en', 'ingredients_text', 'allergens', 'allergens_en', 'traces', 'traces_tags', 'traces_en', 'serving_size', 'no_nutriments', 'additives_n', 'additives', 'additives_tags', 'additives_en', 'ingredients_from_palm_oil_n', 'ingredients_from_palm_oil', 'ingredients_from_palm_oil_tags', 'ingredients_that_may_be_from_palm_oil_n', 'ingredients_that_may_be_from_palm_oil', 'ingredients_that_may_be_from_palm_oil_tags', 'nutrition_grade_uk', 'nutrition_grade_fr', 'pnns_groups_1', 'pnns_groups_2', 'states', 'states_tags', 'states_en', 'main_category', 'main_category_en', 'image_url', 'image_small_url', 'energy_100g', 'energy-from-fat_100g', 'fat_100g', 'saturated-fat_100g', '-butyric-acid_100g', '-caproic-acid_100g', '-caprylic-acid_100g', '-capric-acid_100g', '-lauric-acid_100g', '-myristic-acid_100g', '-palmitic-acid_100g', '-stearic-acid_100g', '-arachidic-acid_100g', '-behenic-acid_100g', '-lignoceric-acid_100g', '-cerotic-acid_100g', '-montanic-acid_100g', '-melissic-acid_100g', 'monounsaturated-fat_100g', 'polyunsaturated-fat_100g', 'omega-3-fat_100g', '-alpha-linolenic-acid_100g', '-eicosapentaenoic-acid_100g', '-docosahexaenoic-acid_100g', 'omega-6-fat_100g', '-linoleic-acid_100g', '-arachidonic-acid_100g', '-gamma-linolenic-acid_100g', '-dihomo-gamma-linolenic-acid_100g', 'omega-9-fat_100g', '-oleic-acid_100g', '-elaidic-acid_100g', '-gondoic-acid_100g', '-mead-acid_100g', '-erucic-acid_100g', '-nervonic-acid_100g', 'trans-fat_100g', 'cholesterol_100g', 'carbohydrates_100g', 'sugars_100g', '-sucrose_100g', '-glucose_100g', '-fructose_100g', '-lactose_100g', '-maltose_100g', '-maltodextrins_100g', 'starch_100g', 'polyols_100g', 'fiber_100g', 'proteins_100g', 'casein_100g', 'serum-proteins_100g', 'nucleotides_100g', 'salt_100g', 'sodium_100g', 'alcohol_100g', 'vitamin-a_100g', 'beta-carotene_100g', 'vitamin-d_100g', 'vitamin-e_100g', 'vitamin-k_100g', 'vitamin-c_100g', 'vitamin-b1_100g', 'vitamin-b2_100g', 'vitamin-pp_100g', 'vitamin-b6_100g', 'vitamin-b9_100g', 'folates_100g', 'vitamin-b12_100g', 'biotin_100g', 'pantothenic-acid_100g', 'silica_100g', 'bicarbonate_100g', 'potassium_100g', 'chloride_100g', 'calcium_100g', 'phosphorus_100g', 'iron_100g', 'magnesium_100g', 'zinc_100g', 'copper_100g', 'manganese_100g', 'fluoride_100g', 'selenium_100g', 'chromium_100g', 'molybdenum_100g', 'iodine_100g', 'caffeine_100g', 'taurine_100g', 'ph_100g', 'fruits-vegetables-nuts_100g', 'fruits-vegetables-nuts-estimate_100g', 'collagen-meat-protein-ratio_100g', 'cocoa_100g', 'chlorophyl_100g', 'carbon-footprint_100g', 'nutrition-score-fr_100g', 'nutrition-score-uk_100g', 'glycemic-index_100g', 'water-hardness_100g']\n",
      "(3394, 163)\n"
     ]
    }
   ],
   "source": [
    "print(list(usda_bfp))\n",
    "yogurts = usda_bfp[usda_bfp['product_name'].str.contains('Yogurt', na = False)]\n",
    "print(yogurts.shape)"
   ]
  },
  {
   "cell_type": "code",
   "execution_count": 101,
   "metadata": {},
   "outputs": [
    {
     "data": {
      "text/html": [
       "<div>\n",
       "<style>\n",
       "    .dataframe thead tr:only-child th {\n",
       "        text-align: right;\n",
       "    }\n",
       "\n",
       "    .dataframe thead th {\n",
       "        text-align: left;\n",
       "    }\n",
       "\n",
       "    .dataframe tbody tr th {\n",
       "        vertical-align: top;\n",
       "    }\n",
       "</style>\n",
       "<table border=\"1\" class=\"dataframe\">\n",
       "  <thead>\n",
       "    <tr style=\"text-align: right;\">\n",
       "      <th></th>\n",
       "      <th>Cultured milk</th>\n",
       "      <th>sugar</th>\n",
       "      <th>water</th>\n",
       "      <th>pectin</th>\n",
       "      <th>natural flavor</th>\n",
       "      <th>citric acid</th>\n",
       "      <th>natural flavors</th>\n",
       "      <th>l. acidophilus</th>\n",
       "      <th>l. bulgaricus</th>\n",
       "      <th>locust bean gum</th>\n",
       "      <th>...</th>\n",
       "      <th>fruit juice and annatto [color]</th>\n",
       "      <th>fruit and vegetable live and active probiotic cultures: l. acidophilus</th>\n",
       "      <th>fruit juice [color] guar gum</th>\n",
       "      <th>fruit juice (for color),</th>\n",
       "      <th>fruit juice &amp; beta carotene (for color)</th>\n",
       "      <th>fruit extract</th>\n",
       "      <th>fruit base (cane sugar</th>\n",
       "      <th>fruit and vegetables juice concentrate (for color)</th>\n",
       "      <th>fruit and vegetable nutrient extract blend (orange extract</th>\n",
       "      <th>zucchini</th>\n",
       "    </tr>\n",
       "  </thead>\n",
       "  <tbody>\n",
       "    <tr>\n",
       "      <th>0</th>\n",
       "      <td>1848</td>\n",
       "      <td>1579</td>\n",
       "      <td>1181</td>\n",
       "      <td>1154</td>\n",
       "      <td>995</td>\n",
       "      <td>750</td>\n",
       "      <td>672</td>\n",
       "      <td>644</td>\n",
       "      <td>538</td>\n",
       "      <td>528</td>\n",
       "      <td>...</td>\n",
       "      <td>1</td>\n",
       "      <td>1</td>\n",
       "      <td>1</td>\n",
       "      <td>1</td>\n",
       "      <td>1</td>\n",
       "      <td>1</td>\n",
       "      <td>1</td>\n",
       "      <td>1</td>\n",
       "      <td>1</td>\n",
       "      <td>1</td>\n",
       "    </tr>\n",
       "  </tbody>\n",
       "</table>\n",
       "<p>1 rows × 6874 columns</p>\n",
       "</div>"
      ],
      "text/plain": [
       "   Cultured milk  sugar  water  pectin  natural flavor  citric acid  \\\n",
       "0           1848   1579   1181    1154             995          750   \n",
       "\n",
       "   natural flavors  l. acidophilus  l. bulgaricus  locust bean gum    ...     \\\n",
       "0              672             644            538              528    ...      \n",
       "\n",
       "   fruit juice and annatto [color]  \\\n",
       "0                                1   \n",
       "\n",
       "   fruit and vegetable live and active probiotic cultures: l. acidophilus  \\\n",
       "0                                                  1                        \n",
       "\n",
       "   fruit juice [color] guar gum  fruit juice (for color),  \\\n",
       "0                             1                         1   \n",
       "\n",
       "   fruit juice & beta carotene (for color)  fruit extract  \\\n",
       "0                                        1              1   \n",
       "\n",
       "   fruit base (cane sugar  fruit and vegetables juice concentrate (for color)  \\\n",
       "0                       1                                                  1    \n",
       "\n",
       "   fruit and vegetable nutrient extract blend (orange extract  zucchini  \n",
       "0                                                  1                  1  \n",
       "\n",
       "[1 rows x 6874 columns]"
      ]
     },
     "execution_count": 101,
     "metadata": {},
     "output_type": "execute_result"
    }
   ],
   "source": [
    "from collections import defaultdict\n",
    "import matplotlib.pyplot as plt\n",
    "import re\n",
    "\n",
    "ingredient_count = defaultdict(int)\n",
    "\n",
    "for index, row in yogurts.iterrows():\n",
    "    for ingredient in row['ingredients_text'].split(', '):\n",
    "        ingredient_count[ingredient] += 1\n",
    "\n",
    "df_count = pd.DataFrame.from_records([ingredient_count])\n",
    "\n",
    "\n",
    "df_count['Cultured milk'] = 0\n",
    "\n",
    "for column in df_count:\n",
    "    if re.match(r'Cultured.*milk|milk.*Cultured', column):\n",
    "        df_count['Cultured milk'] += df_count[column][0]\n",
    "df_count = df_count.sort_values(by = [0], axis=1, ascending = False)\n",
    "sorted(ingredient_count.items(), key=lambda x: x[1], reverse = True)\n",
    "\n",
    "df_count"
   ]
  }
 ],
 "metadata": {
  "kernelspec": {
   "display_name": "Python 3",
   "language": "python",
   "name": "python3"
  },
  "language_info": {
   "codemirror_mode": {
    "name": "ipython",
    "version": 3
   },
   "file_extension": ".py",
   "mimetype": "text/x-python",
   "name": "python",
   "nbconvert_exporter": "python",
   "pygments_lexer": "ipython3",
   "version": "3.6.2"
  }
 },
 "nbformat": 4,
 "nbformat_minor": 2
}
